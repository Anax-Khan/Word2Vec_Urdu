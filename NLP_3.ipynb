{
  "nbformat": 4,
  "nbformat_minor": 0,
  "metadata": {
    "colab": {
      "provenance": []
    },
    "kernelspec": {
      "name": "python3",
      "display_name": "Python 3"
    },
    "language_info": {
      "name": "python"
    }
  },
  "cells": [
    {
      "cell_type": "code",
      "execution_count": 6,
      "metadata": {
        "colab": {
          "base_uri": "https://localhost:8080/"
        },
        "id": "HS4VtgcFOVTF",
        "outputId": "6a5e4a61-25ef-448b-8327-fc3370cc3023"
      },
      "outputs": [
        {
          "output_type": "stream",
          "name": "stdout",
          "text": [
            "Found existing installation: numpy 1.26.4\n",
            "Uninstalling numpy-1.26.4:\n",
            "  Successfully uninstalled numpy-1.26.4\n",
            "Found existing installation: scipy 1.13.1\n",
            "Uninstalling scipy-1.13.1:\n",
            "  Successfully uninstalled scipy-1.13.1\n",
            "Found existing installation: gensim 4.3.3\n",
            "Uninstalling gensim-4.3.3:\n",
            "  Successfully uninstalled gensim-4.3.3\n",
            "Collecting numpy==1.26.4\n",
            "  Downloading numpy-1.26.4-cp311-cp311-manylinux_2_17_x86_64.manylinux2014_x86_64.whl.metadata (61 kB)\n",
            "\u001b[2K     \u001b[90m━━━━━━━━━━━━━━━━━━━━━━━━━━━━━━━━━━━━━━━━\u001b[0m \u001b[32m61.0/61.0 kB\u001b[0m \u001b[31m8.4 MB/s\u001b[0m eta \u001b[36m0:00:00\u001b[0m\n",
            "\u001b[?25hCollecting scipy==1.13.1\n",
            "  Downloading scipy-1.13.1-cp311-cp311-manylinux_2_17_x86_64.manylinux2014_x86_64.whl.metadata (60 kB)\n",
            "\u001b[2K     \u001b[90m━━━━━━━━━━━━━━━━━━━━━━━━━━━━━━━━━━━━━━━━\u001b[0m \u001b[32m60.6/60.6 kB\u001b[0m \u001b[31m77.7 MB/s\u001b[0m eta \u001b[36m0:00:00\u001b[0m\n",
            "\u001b[?25hCollecting gensim\n",
            "  Downloading gensim-4.3.3-cp311-cp311-manylinux_2_17_x86_64.manylinux2014_x86_64.whl.metadata (8.1 kB)\n",
            "Requirement already satisfied: smart-open>=1.8.1 in /usr/local/lib/python3.11/dist-packages (from gensim) (7.1.0)\n",
            "Requirement already satisfied: wrapt in /usr/local/lib/python3.11/dist-packages (from smart-open>=1.8.1->gensim) (1.17.2)\n",
            "Downloading numpy-1.26.4-cp311-cp311-manylinux_2_17_x86_64.manylinux2014_x86_64.whl (18.3 MB)\n",
            "\u001b[2K   \u001b[90m━━━━━━━━━━━━━━━━━━━━━━━━━━━━━━━━━━━━━━━━\u001b[0m \u001b[32m18.3/18.3 MB\u001b[0m \u001b[31m245.6 MB/s\u001b[0m eta \u001b[36m0:00:00\u001b[0m\n",
            "\u001b[?25hDownloading scipy-1.13.1-cp311-cp311-manylinux_2_17_x86_64.manylinux2014_x86_64.whl (38.6 MB)\n",
            "\u001b[2K   \u001b[90m━━━━━━━━━━━━━━━━━━━━━━━━━━━━━━━━━━━━━━━━\u001b[0m \u001b[32m38.6/38.6 MB\u001b[0m \u001b[31m204.5 MB/s\u001b[0m eta \u001b[36m0:00:00\u001b[0m\n",
            "\u001b[?25hDownloading gensim-4.3.3-cp311-cp311-manylinux_2_17_x86_64.manylinux2014_x86_64.whl (26.7 MB)\n",
            "\u001b[2K   \u001b[90m━━━━━━━━━━━━━━━━━━━━━━━━━━━━━━━━━━━━━━━━\u001b[0m \u001b[32m26.7/26.7 MB\u001b[0m \u001b[31m241.9 MB/s\u001b[0m eta \u001b[36m0:00:00\u001b[0m\n",
            "\u001b[?25hInstalling collected packages: numpy, scipy, gensim\n",
            "\u001b[31mERROR: pip's dependency resolver does not currently take into account all the packages that are installed. This behaviour is the source of the following dependency conflicts.\n",
            "thinc 8.3.6 requires numpy<3.0.0,>=2.0.0, but you have numpy 1.26.4 which is incompatible.\u001b[0m\u001b[31m\n",
            "\u001b[0mSuccessfully installed gensim-4.3.3 numpy-1.26.4 scipy-1.13.1\n"
          ]
        }
      ],
      "source": [
        "!pip uninstall -y numpy scipy gensim\n",
        "!pip install numpy==1.26.4 scipy==1.13.1 gensim --no-cache-dir\n"
      ]
    },
    {
      "cell_type": "code",
      "source": [
        "import numpy\n",
        "import scipy\n",
        "import gensim\n",
        "print(\"All libraries loaded successfully!\")\n"
      ],
      "metadata": {
        "colab": {
          "base_uri": "https://localhost:8080/"
        },
        "id": "VQPHgQKQaF59",
        "outputId": "91f6a682-3f13-476f-b963-e8d6e65b7254"
      },
      "execution_count": 42,
      "outputs": [
        {
          "output_type": "stream",
          "name": "stdout",
          "text": [
            "All libraries loaded successfully!\n"
          ]
        }
      ]
    },
    {
      "cell_type": "code",
      "source": [
        "import pandas as pd\n",
        "from gensim.utils import simple_preprocess\n",
        "import gensim.models.word2vec as w2v\n",
        "from gensim.models import Word2Vec\n"
      ],
      "metadata": {
        "id": "CTYK8LIwv1kf"
      },
      "execution_count": 43,
      "outputs": []
    },
    {
      "cell_type": "code",
      "source": [
        "with open('Mishkat-1.txt', 'r', encoding='utf-8') as file:\n",
        "    urdu_text = file.readlines()\n"
      ],
      "metadata": {
        "id": "ZmuKHq1Lxrxq"
      },
      "execution_count": 44,
      "outputs": []
    },
    {
      "cell_type": "code",
      "source": [
        "sentences = [simple_preprocess(line) for line in urdu_text]\n"
      ],
      "metadata": {
        "id": "9uhxPum46BXA"
      },
      "execution_count": 45,
      "outputs": []
    },
    {
      "cell_type": "markdown",
      "source": [
        "\n",
        "\n",
        "---\n",
        "\n"
      ],
      "metadata": {
        "id": "hyQMui0lFj16"
      }
    },
    {
      "cell_type": "markdown",
      "source": [
        "# **Default window and min_count**"
      ],
      "metadata": {
        "id": "VnnXsKsdFlhU"
      }
    },
    {
      "cell_type": "markdown",
      "source": [
        "\n",
        "\n",
        "---\n",
        "\n"
      ],
      "metadata": {
        "id": "DQCCdrc2Fsnw"
      }
    },
    {
      "cell_type": "code",
      "source": [
        "model = Word2Vec(sentences)\n"
      ],
      "metadata": {
        "id": "_AJz5FZ26STU"
      },
      "execution_count": 46,
      "outputs": []
    },
    {
      "cell_type": "code",
      "source": [
        "similarity = model.wv.similarity('خدا', 'اللہ')\n",
        "print(f\"Similarity bw خدا and اللہ: {similarity}\")\n",
        "\n",
        "similarity2 = model.wv.similarity('نیک', 'صحیح')\n",
        "print(f\"Similarity bw نیک and صحیح: {similarity2}\")\n",
        "\n",
        "similarity1 = model.wv.similarity('حرام', 'حلال')\n",
        "print(f\"Similarity bw حرام and حلال: {similarity1}\")"
      ],
      "metadata": {
        "colab": {
          "base_uri": "https://localhost:8080/"
        },
        "id": "lp0Rt3LC6Wr-",
        "outputId": "da0ee06a-023f-467d-c49a-0c8c1a3d80f0"
      },
      "execution_count": 47,
      "outputs": [
        {
          "output_type": "stream",
          "name": "stdout",
          "text": [
            "Similarity bw خدا and اللہ: 0.20549260079860687\n",
            "Similarity bw نیک and صحیح: 0.10595465451478958\n",
            "Similarity bw حرام and حلال: 0.9162375330924988\n"
          ]
        }
      ]
    },
    {
      "cell_type": "code",
      "source": [
        "similar_words = model.wv.most_similar('نیک', topn=5)\n",
        "for word, prob in similar_words:\n",
        "    print(f\"{word}: {prob}\")\n"
      ],
      "metadata": {
        "colab": {
          "base_uri": "https://localhost:8080/"
        },
        "id": "ETQ2wpsB_wE6",
        "outputId": "1eae1b1a-6dfb-4944-9c69-fc63a820b555"
      },
      "execution_count": 48,
      "outputs": [
        {
          "output_type": "stream",
          "name": "stdout",
          "text": [
            "بد: 0.8816348910331726\n",
            "دینی: 0.8765262961387634\n",
            "برے: 0.8612778782844543\n",
            "امور: 0.8606891632080078\n",
            "دماغ: 0.8502493500709534\n"
          ]
        }
      ]
    },
    {
      "cell_type": "code",
      "source": [
        "similar_words = model.wv.most_similar('حرام', topn=5)\n",
        "for word, prob in similar_words:\n",
        "    print(f\"{word}: {prob}\")\n"
      ],
      "metadata": {
        "colab": {
          "base_uri": "https://localhost:8080/"
        },
        "id": "zsh1vzC0AA_O",
        "outputId": "f1dc5abc-b24b-45bf-d618-a339eb4d0b5d"
      },
      "execution_count": 49,
      "outputs": [
        {
          "output_type": "stream",
          "name": "stdout",
          "text": [
            "حلال: 0.9162376523017883\n",
            "شراب: 0.8871362805366516\n",
            "ضروری: 0.8764758110046387\n",
            "کفر: 0.8490167260169983\n",
            "فائدہ: 0.8470494747161865\n"
          ]
        }
      ]
    },
    {
      "cell_type": "code",
      "source": [
        "similar_words = model.wv.most_similar('حلال', topn=5)\n",
        "for word, prob in similar_words:\n",
        "    print(f\"{word}: {prob}\")\n"
      ],
      "metadata": {
        "colab": {
          "base_uri": "https://localhost:8080/"
        },
        "id": "ES0hxrjmABbR",
        "outputId": "fa50e030-90b6-4285-ca0b-775a1bbf2012"
      },
      "execution_count": 50,
      "outputs": [
        {
          "output_type": "stream",
          "name": "stdout",
          "text": [
            "حرام: 0.9162375330924988\n",
            "لازم: 0.891185998916626\n",
            "زنا: 0.8889473676681519\n",
            "جتنا: 0.8801740407943726\n",
            "نقصان: 0.8721831440925598\n"
          ]
        }
      ]
    },
    {
      "cell_type": "markdown",
      "source": [
        "\n",
        "\n",
        "---\n",
        "\n"
      ],
      "metadata": {
        "id": "X5Mb9dFtEoBl"
      }
    },
    {
      "cell_type": "markdown",
      "source": [
        "# **window=3, min_count=2**"
      ],
      "metadata": {
        "id": "IpI9NqK2EfG_"
      }
    },
    {
      "cell_type": "markdown",
      "source": [
        "\n",
        "\n",
        "---\n",
        "\n"
      ],
      "metadata": {
        "id": "MSwZZG4sEqtk"
      }
    },
    {
      "cell_type": "code",
      "source": [
        "model_1 = Word2Vec(sentences, window=3, min_count=2)\n"
      ],
      "metadata": {
        "id": "wGw9SnDQAV_H"
      },
      "execution_count": 51,
      "outputs": []
    },
    {
      "cell_type": "code",
      "source": [
        "similarity = model_1.wv.similarity('خدا', 'اللہ')\n",
        "print(f\"Similarity bw خدا and اللہ: {similarity}\")\n",
        "\n",
        "similarity2 = model_1.wv.similarity('نیک', 'صحیح')\n",
        "print(f\"Similarity bw نیک and صحیح: {similarity2}\")\n",
        "\n",
        "similarity1 = model_1.wv.similarity('حرام', 'حلال')\n",
        "print(f\"Similarity bw حرام and حلال: {similarity1}\")"
      ],
      "metadata": {
        "colab": {
          "base_uri": "https://localhost:8080/"
        },
        "id": "RUpJmAkyDZ3n",
        "outputId": "5e7ee5f7-4dbf-42d1-8ab0-4171805f3987"
      },
      "execution_count": 52,
      "outputs": [
        {
          "output_type": "stream",
          "name": "stdout",
          "text": [
            "Similarity bw خدا and اللہ: 0.3326808512210846\n",
            "Similarity bw نیک and صحیح: 0.19755300879478455\n",
            "Similarity bw حرام and حلال: 0.9451011419296265\n"
          ]
        }
      ]
    },
    {
      "cell_type": "code",
      "source": [
        "similar_words = model_1.wv.most_similar('نیک', topn=5)\n",
        "for word, prob in similar_words:\n",
        "    print(f\"{word}: {prob}\")"
      ],
      "metadata": {
        "colab": {
          "base_uri": "https://localhost:8080/"
        },
        "id": "5gDZ-ECGEQMp",
        "outputId": "a192a7f3-b9f6-43c9-a460-9881500d4a53"
      },
      "execution_count": 53,
      "outputs": [
        {
          "output_type": "stream",
          "name": "stdout",
          "text": [
            "بد: 0.8629072904586792\n",
            "اچھے: 0.8567091822624207\n",
            "برے: 0.8431892991065979\n",
            "دنیاوی: 0.8420071601867676\n",
            "دینی: 0.8367677330970764\n"
          ]
        }
      ]
    },
    {
      "cell_type": "code",
      "source": [
        "similar_words = model_1.wv.most_similar('حلال', topn=5)\n",
        "for word, prob in similar_words:\n",
        "    print(f\"{word}: {prob}\")"
      ],
      "metadata": {
        "colab": {
          "base_uri": "https://localhost:8080/"
        },
        "id": "I70pOnDHE-5a",
        "outputId": "d23fd260-af8b-4192-d32f-998b4dc45eae"
      },
      "execution_count": 54,
      "outputs": [
        {
          "output_type": "stream",
          "name": "stdout",
          "text": [
            "حرام: 0.9451012015342712\n",
            "لازم: 0.9421648383140564\n",
            "نقصان: 0.9199714660644531\n",
            "گمان: 0.9054259657859802\n",
            "ممنوع: 0.9035729169845581\n"
          ]
        }
      ]
    },
    {
      "cell_type": "code",
      "source": [
        "similar_words = model_1.wv.most_similar('حرام', topn=5)\n",
        "for word, prob in similar_words:\n",
        "    print(f\"{word}: {prob}\")"
      ],
      "metadata": {
        "colab": {
          "base_uri": "https://localhost:8080/"
        },
        "id": "qArWJlRnE_-W",
        "outputId": "e1d00b30-f5cf-4d54-c6c0-5722c4421617"
      },
      "execution_count": 55,
      "outputs": [
        {
          "output_type": "stream",
          "name": "stdout",
          "text": [
            "حلال: 0.9451011419296265\n",
            "لازم: 0.8990304470062256\n",
            "ضروری: 0.8966975808143616\n",
            "ممنوع: 0.8902918100357056\n",
            "کفر: 0.8655343651771545\n"
          ]
        }
      ]
    },
    {
      "cell_type": "markdown",
      "source": [
        "\n",
        "\n",
        "---\n",
        "\n"
      ],
      "metadata": {
        "id": "aLSaXDF8F1mL"
      }
    },
    {
      "cell_type": "markdown",
      "source": [
        "# **window=10, min_count=1**"
      ],
      "metadata": {
        "id": "3uemsLtXF4pz"
      }
    },
    {
      "cell_type": "markdown",
      "source": [
        "\n",
        "\n",
        "---\n",
        "\n"
      ],
      "metadata": {
        "id": "3Gwl-e92F7So"
      }
    },
    {
      "cell_type": "code",
      "source": [
        "model_2 = Word2Vec(sentences, window=10, min_count=1)\n"
      ],
      "metadata": {
        "id": "bSpYeRgUFy0c"
      },
      "execution_count": 56,
      "outputs": []
    },
    {
      "cell_type": "code",
      "source": [
        "similarity = model_2.wv.similarity('خدا', 'اللہ')\n",
        "print(f\"Similarity bw خدا and اللہ: {similarity}\")\n",
        "\n",
        "similarity2 = model_2.wv.similarity('نیک', 'صحیح')\n",
        "print(f\"Similarity bw نیک and صحیح: {similarity2}\")\n",
        "\n",
        "similarity1 = model_2.wv.similarity('حرام', 'حلال')\n",
        "print(f\"Similarity bw حرام and حلال: {similarity1}\")"
      ],
      "metadata": {
        "colab": {
          "base_uri": "https://localhost:8080/"
        },
        "id": "HoJuOuVyFzxt",
        "outputId": "59b07f78-dd51-415f-d87f-de20741e6157"
      },
      "execution_count": 57,
      "outputs": [
        {
          "output_type": "stream",
          "name": "stdout",
          "text": [
            "Similarity bw خدا and اللہ: 0.09615789353847504\n",
            "Similarity bw نیک and صحیح: 0.12536467611789703\n",
            "Similarity bw حرام and حلال: 0.9423710703849792\n"
          ]
        }
      ]
    },
    {
      "cell_type": "code",
      "source": [
        "similar_words = model_2.wv.most_similar('نیک', topn=5)\n",
        "for word, prob in similar_words:\n",
        "    print(f\"{word}: {prob}\")"
      ],
      "metadata": {
        "colab": {
          "base_uri": "https://localhost:8080/"
        },
        "id": "YoCcyGw9GYgL",
        "outputId": "92c62a1d-57ce-47c5-f1d9-52e489b8986a"
      },
      "execution_count": 58,
      "outputs": [
        {
          "output_type": "stream",
          "name": "stdout",
          "text": [
            "بد: 0.9122747182846069\n",
            "اعمال: 0.8986576199531555\n",
            "بختی: 0.8909587860107422\n",
            "دینی: 0.8878618478775024\n",
            "دنیاوی: 0.8818284869194031\n"
          ]
        }
      ]
    },
    {
      "cell_type": "code",
      "source": [
        "similar_words = model_2.wv.most_similar('حلال', topn=5)\n",
        "for word, prob in similar_words:\n",
        "    print(f\"{word}: {prob}\")"
      ],
      "metadata": {
        "colab": {
          "base_uri": "https://localhost:8080/"
        },
        "id": "jrFFFu-cGeZ7",
        "outputId": "420d3a08-3a32-47d7-f529-7318351cf2da"
      },
      "execution_count": 59,
      "outputs": [
        {
          "output_type": "stream",
          "name": "stdout",
          "text": [
            "حرام: 0.942371129989624\n",
            "مشتبہ: 0.9254136085510254\n",
            "لازم: 0.9217472672462463\n",
            "سمجھنا: 0.9185206890106201\n",
            "پاتا: 0.9135463833808899\n"
          ]
        }
      ]
    },
    {
      "cell_type": "code",
      "source": [
        "similar_words = model_2.wv.most_similar('حرام', topn=5)\n",
        "for word, prob in similar_words:\n",
        "    print(f\"{word}: {prob}\")"
      ],
      "metadata": {
        "colab": {
          "base_uri": "https://localhost:8080/"
        },
        "id": "bZvDLKL9GfMY",
        "outputId": "e1b2d431-7084-4e7f-9943-376f62b27716"
      },
      "execution_count": 60,
      "outputs": [
        {
          "output_type": "stream",
          "name": "stdout",
          "text": [
            "حلال: 0.9423710107803345\n",
            "ضروری: 0.9337227940559387\n",
            "مباح: 0.8919411301612854\n",
            "برائی: 0.8919298648834229\n",
            "دینا: 0.8883079290390015\n"
          ]
        }
      ]
    },
    {
      "cell_type": "markdown",
      "source": [
        "\n",
        "\n",
        "---\n",
        "\n"
      ],
      "metadata": {
        "id": "Ur9H6RCpG6Li"
      }
    },
    {
      "cell_type": "markdown",
      "source": [
        "# **window=2, min_count=10**"
      ],
      "metadata": {
        "id": "BUT3KQXMG58c"
      }
    },
    {
      "cell_type": "markdown",
      "source": [
        "\n",
        "\n",
        "---\n",
        "\n",
        "\n",
        "\n"
      ],
      "metadata": {
        "id": "3h_p6v7fG5q_"
      }
    },
    {
      "cell_type": "code",
      "source": [
        "model_3 = Word2Vec(sentences, window=2, min_count=10)\n"
      ],
      "metadata": {
        "id": "6ZBvsPprGpxT"
      },
      "execution_count": 61,
      "outputs": []
    },
    {
      "cell_type": "code",
      "source": [
        "similarity = model_3.wv.similarity('خدا', 'اللہ')\n",
        "print(f\"Similarity bw خدا and اللہ: {similarity}\")\n",
        "\n",
        "similarity2 = model_3.wv.similarity('نیک', 'صحیح')\n",
        "print(f\"Similarity bw نیک and صحیح: {similarity2}\")\n",
        "\n",
        "similarity1 = model_3.wv.similarity('حرام', 'حلال')\n",
        "print(f\"Similarity bw حرام and حلال: {similarity1}\")"
      ],
      "metadata": {
        "colab": {
          "base_uri": "https://localhost:8080/"
        },
        "id": "5EtI4HKaG3XN",
        "outputId": "7a11ddf2-da41-47b6-e081-bfa95ac80624"
      },
      "execution_count": 62,
      "outputs": [
        {
          "output_type": "stream",
          "name": "stdout",
          "text": [
            "Similarity bw خدا and اللہ: 0.44302108883857727\n",
            "Similarity bw نیک and صحیح: 0.06366413831710815\n",
            "Similarity bw حرام and حلال: 0.9361454248428345\n"
          ]
        }
      ]
    },
    {
      "cell_type": "code",
      "source": [
        "similar_words = model_3.wv.most_similar('نیک', topn=5)\n",
        "for word, prob in similar_words:\n",
        "    print(f\"{word}: {prob}\")"
      ],
      "metadata": {
        "colab": {
          "base_uri": "https://localhost:8080/"
        },
        "id": "sZoMXKk8HJFb",
        "outputId": "a8bd9d57-ce3d-4b00-d6e5-42a373213b00"
      },
      "execution_count": 63,
      "outputs": [
        {
          "output_type": "stream",
          "name": "stdout",
          "text": [
            "بد: 0.8143172860145569\n",
            "اچھے: 0.810027539730072\n",
            "برے: 0.8047164082527161\n",
            "دنیاوی: 0.7848986983299255\n",
            "دماغ: 0.7747649550437927\n"
          ]
        }
      ]
    },
    {
      "cell_type": "code",
      "source": [
        "similar_words = model_3.wv.most_similar('حلال', topn=5)\n",
        "for word, prob in similar_words:\n",
        "    print(f\"{word}: {prob}\")"
      ],
      "metadata": {
        "colab": {
          "base_uri": "https://localhost:8080/"
        },
        "id": "yvIOBSn5HQ17",
        "outputId": "e737d6e3-c904-4b25-fc12-38933059aa1f"
      },
      "execution_count": 64,
      "outputs": [
        {
          "output_type": "stream",
          "name": "stdout",
          "text": [
            "حرام: 0.9361454844474792\n",
            "لازم: 0.9245025515556335\n",
            "اتنا: 0.882647693157196\n",
            "دخل: 0.8815407156944275\n",
            "ناپاک: 0.8723303079605103\n"
          ]
        }
      ]
    },
    {
      "cell_type": "code",
      "source": [
        "similar_words = model_3.wv.most_similar('حرام', topn=5)\n",
        "for word, prob in similar_words:\n",
        "    print(f\"{word}: {prob}\")"
      ],
      "metadata": {
        "colab": {
          "base_uri": "https://localhost:8080/"
        },
        "id": "CMgQZ1xpHUm5",
        "outputId": "56610823-7a3d-4fe6-d3b5-3550608c9ec3"
      },
      "execution_count": 65,
      "outputs": [
        {
          "output_type": "stream",
          "name": "stdout",
          "text": [
            "حلال: 0.9361454248428345\n",
            "لازم: 0.8664180040359497\n",
            "ضروری: 0.8447750210762024\n",
            "کفر: 0.8378491997718811\n",
            "گنہگار: 0.8369582891464233\n"
          ]
        }
      ]
    },
    {
      "cell_type": "markdown",
      "source": [
        "# **MY OBSERVATION ON THESE RESULTS**\n",
        "\n",
        "Unlike my previous assignment where I used the IMDB review dataset, this Urdu dataset did not show significant changes in results when varying the window size and min_count parameters.\n",
        "\n",
        "One of the main reasons, as I also confirmed with an AI tool, is that the dataset is highly consistent. For example, whenever \"alcohol\" is mentioned, it is always labeled as \"haram.\"\n",
        "\n",
        "Similarly, words like \"اچھے\", \"برے\", \"حرام\", and \"حلال\" frequently appear together in the same context. This consistency may lead the model to assume that these words are similar, even though some of them are actually opposites.\n",
        "\n",
        "A larger and more diverse dataset might have helped capture more nuanced relationships and shown more noticeable differences when tuning the parameters."
      ],
      "metadata": {
        "id": "tLzb8i4VKuO4"
      }
    },
    {
      "cell_type": "code",
      "source": [],
      "metadata": {
        "id": "gIV4q5iFHW5H"
      },
      "execution_count": null,
      "outputs": []
    }
  ]
}